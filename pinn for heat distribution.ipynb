{
 "cells": [
  {
   "cell_type": "code",
   "execution_count": 24,
   "id": "be530d28",
   "metadata": {},
   "outputs": [],
   "source": [
    "import numpy as np\n",
    "import matplotlib.pyplot as plt\n",
    "from mpl_toolkits.mplot3d import Axes3D\n",
    "import tensorflow as tf\n",
    "from tensorflow.keras import layers, Model\n",
    "import pandas as pd"
   ]
  },
  {
   "cell_type": "code",
   "execution_count": 25,
   "id": "6a863e07",
   "metadata": {},
   "outputs": [],
   "source": [
    "x_coords_1 = [-17.68,-12.62,-7.57,-2.52,2.53,7.57,12.62,17.67]\n",
    "y_coords_1 = [0,0,0,0,0,0,0,0]  \n",
    "z_coords_1 = [-12.61,-12.61,-12.61,-12.61,-12.61,-12.61,-12.61,-12.61]\n",
    "input_temperature_1 = 373\n",
    "ambient_temperature_1 = 300\n",
    "temp_diff_1 = input_temperature_1 - ambient_temperature_1\n",
    "temp_diff_1=[temp_diff_1,temp_diff_1,temp_diff_1,temp_diff_1,temp_diff_1,temp_diff_1,temp_diff_1,temp_diff_1]\n",
    "input_temperature_1 =[input_temperature_1,input_temperature_1,input_temperature_1,input_temperature_1,input_temperature_1,input_temperature_1,input_temperature_1,input_temperature_1]"
   ]
  },
  {
   "cell_type": "code",
   "execution_count": 26,
   "id": "143880b4",
   "metadata": {},
   "outputs": [],
   "source": [
    "x_coords_2 = [-17.68,-12.62,-7.57,-2.52,2.53,7.57,12.62,17.67]\n",
    "y_coords_2 = [0,0,0,0,0,0,0,0]  \n",
    "z_coords_2 = [-12.61,-12.61,-12.61,-12.61,-12.61,-12.61,-12.61,-12.61]\n",
    "input_temperature_2 = 383\n",
    "ambient_temperature_2 = 290\n",
    "temp_diff_2 = input_temperature_2 - ambient_temperature_2\n",
    "temp_diff_2=[temp_diff_2,temp_diff_2,temp_diff_2,temp_diff_2,temp_diff_2,temp_diff_2,temp_diff_2,temp_diff_2]\n",
    "input_temperature_2 =[input_temperature_2,input_temperature_2,input_temperature_2,input_temperature_2,input_temperature_2,input_temperature_2,input_temperature_2,input_temperature_2]"
   ]
  },
  {
   "cell_type": "code",
   "execution_count": 27,
   "id": "c7da23ef",
   "metadata": {},
   "outputs": [],
   "source": [
    "x_coords_3 = [-17.68,-12.62,-7.57,-2.52,2.53,7.57,12.62,17.67]\n",
    "y_coords_3 = [0,0,0,0,0,0,0,0]  \n",
    "z_coords_3 = [-12.61,-12.61,-12.61,-12.61,-12.61,-12.61,-12.61,-12.61]\n",
    "input_temperature_3 = 400.0\n",
    "ambient_temperature_3 = 310.0\n",
    "temp_diff_3 = input_temperature_3 - ambient_temperature_3\n",
    "temp_diff_3=[temp_diff_3,temp_diff_3,temp_diff_3,temp_diff_3,temp_diff_3,temp_diff_3,temp_diff_3,temp_diff_3]\n",
    "input_temperature_3 =[input_temperature_3,input_temperature_3,input_temperature_3,input_temperature_3,input_temperature_3,input_temperature_3,input_temperature_3,input_temperature_3]"
   ]
  },
  {
   "cell_type": "code",
   "execution_count": 28,
   "id": "dc306295",
   "metadata": {},
   "outputs": [],
   "source": [
    "x_coords_4 = [-17.68,-12.62,-7.57,-2.52,2.53,7.57,12.62,17.67]\n",
    "y_coords_4 = [0,0,0,0,0,0,0,0]  \n",
    "z_coords_4 = [-12.61,-12.61,-12.61,-12.61,-12.61,-12.61,-12.61,-12.61]\n",
    "input_temperature_4 = 395\n",
    "ambient_temperature_4 = 295\n",
    "temp_diff_4 = input_temperature_4 - ambient_temperature_4\n",
    "temp_diff_4=[temp_diff_4,temp_diff_4,temp_diff_4,temp_diff_4,temp_diff_4,temp_diff_4,temp_diff_4,temp_diff_4]\n",
    "input_temperature_4 =[input_temperature_4,input_temperature_4,input_temperature_4,input_temperature_4,input_temperature_4,input_temperature_4,input_temperature_4,input_temperature_4]"
   ]
  },
  {
   "cell_type": "code",
   "execution_count": 29,
   "id": "301ad587",
   "metadata": {},
   "outputs": [],
   "source": [
    "x_coords_5 = [-17.68,-12.62,-7.57,-2.52,2.53,7.57,12.62,17.67]\n",
    "y_coords_5 = [0,0,0,0,0,0,0,0]  \n",
    "z_coords_5 = [-12.61,-12.61,-12.61,-12.61,-12.61,-12.61,-12.61,-12.61]\n",
    "input_temperature_5 = 380\n",
    "ambient_temperature_5 = 305\n",
    "temp_diff_5 = input_temperature_5 - ambient_temperature_5\n",
    "temp_diff_5=[temp_diff_5,temp_diff_5,temp_diff_5,temp_diff_5,temp_diff_5,temp_diff_5,temp_diff_5,temp_diff_5]\n",
    "input_temperature_5 =[input_temperature_5,input_temperature_5,input_temperature_5,input_temperature_5,input_temperature_5,input_temperature_5,input_temperature_5,input_temperature_5]"
   ]
  },
  {
   "cell_type": "code",
   "execution_count": 30,
   "id": "6511f18b",
   "metadata": {},
   "outputs": [
    {
     "data": {
      "text/plain": [
       "array([[-17.68,   0.  , -12.61, 373.  ,  73.  ],\n",
       "       [-12.62,   0.  , -12.61, 373.  ,  73.  ],\n",
       "       [ -7.57,   0.  , -12.61, 373.  ,  73.  ],\n",
       "       [ -2.52,   0.  , -12.61, 373.  ,  73.  ],\n",
       "       [  2.53,   0.  , -12.61, 373.  ,  73.  ],\n",
       "       [  7.57,   0.  , -12.61, 373.  ,  73.  ],\n",
       "       [ 12.62,   0.  , -12.61, 373.  ,  73.  ],\n",
       "       [ 17.67,   0.  , -12.61, 373.  ,  73.  ]])"
      ]
     },
     "execution_count": 30,
     "metadata": {},
     "output_type": "execute_result"
    }
   ],
   "source": [
    "X_train_1 = np.column_stack((x_coords_1, y_coords_1, z_coords_1, input_temperature_1, temp_diff_1))\n",
    "X_train_1"
   ]
  },
  {
   "cell_type": "code",
   "execution_count": 31,
   "id": "a6334f63",
   "metadata": {},
   "outputs": [
    {
     "data": {
      "text/plain": [
       "array([[-17.68,   0.  , -12.61, 383.  ,  93.  ],\n",
       "       [-12.62,   0.  , -12.61, 383.  ,  93.  ],\n",
       "       [ -7.57,   0.  , -12.61, 383.  ,  93.  ],\n",
       "       [ -2.52,   0.  , -12.61, 383.  ,  93.  ],\n",
       "       [  2.53,   0.  , -12.61, 383.  ,  93.  ],\n",
       "       [  7.57,   0.  , -12.61, 383.  ,  93.  ],\n",
       "       [ 12.62,   0.  , -12.61, 383.  ,  93.  ],\n",
       "       [ 17.67,   0.  , -12.61, 383.  ,  93.  ]])"
      ]
     },
     "execution_count": 31,
     "metadata": {},
     "output_type": "execute_result"
    }
   ],
   "source": [
    "X_train_2 = np.column_stack((x_coords_2, y_coords_2, z_coords_2, input_temperature_2, temp_diff_2))\n",
    "X_train_2"
   ]
  },
  {
   "cell_type": "code",
   "execution_count": 32,
   "id": "c6d7c820",
   "metadata": {},
   "outputs": [
    {
     "data": {
      "text/plain": [
       "array([[-17.68,   0.  , -12.61, 400.  ,  90.  ],\n",
       "       [-12.62,   0.  , -12.61, 400.  ,  90.  ],\n",
       "       [ -7.57,   0.  , -12.61, 400.  ,  90.  ],\n",
       "       [ -2.52,   0.  , -12.61, 400.  ,  90.  ],\n",
       "       [  2.53,   0.  , -12.61, 400.  ,  90.  ],\n",
       "       [  7.57,   0.  , -12.61, 400.  ,  90.  ],\n",
       "       [ 12.62,   0.  , -12.61, 400.  ,  90.  ],\n",
       "       [ 17.67,   0.  , -12.61, 400.  ,  90.  ]])"
      ]
     },
     "execution_count": 32,
     "metadata": {},
     "output_type": "execute_result"
    }
   ],
   "source": [
    "X_train_3 = np.column_stack((x_coords_3, y_coords_3, z_coords_3, input_temperature_3, temp_diff_3))\n",
    "X_train_3"
   ]
  },
  {
   "cell_type": "code",
   "execution_count": 33,
   "id": "2668a433",
   "metadata": {},
   "outputs": [
    {
     "data": {
      "text/plain": [
       "array([[-17.68,   0.  , -12.61, 395.  , 100.  ],\n",
       "       [-12.62,   0.  , -12.61, 395.  , 100.  ],\n",
       "       [ -7.57,   0.  , -12.61, 395.  , 100.  ],\n",
       "       [ -2.52,   0.  , -12.61, 395.  , 100.  ],\n",
       "       [  2.53,   0.  , -12.61, 395.  , 100.  ],\n",
       "       [  7.57,   0.  , -12.61, 395.  , 100.  ],\n",
       "       [ 12.62,   0.  , -12.61, 395.  , 100.  ],\n",
       "       [ 17.67,   0.  , -12.61, 395.  , 100.  ]])"
      ]
     },
     "execution_count": 33,
     "metadata": {},
     "output_type": "execute_result"
    }
   ],
   "source": [
    "X_train_4 = np.column_stack((x_coords_4, y_coords_4, z_coords_4, input_temperature_4, temp_diff_4))\n",
    "X_train_4"
   ]
  },
  {
   "cell_type": "code",
   "execution_count": 34,
   "id": "e2a7e026",
   "metadata": {},
   "outputs": [
    {
     "data": {
      "text/plain": [
       "array([373. , 364.8, 356.7, 340.5, 332.4, 316.2, 308.1, 300. ])"
      ]
     },
     "execution_count": 34,
     "metadata": {},
     "output_type": "execute_result"
    }
   ],
   "source": [
    "res_1=[373,364.8,356.7,340.5,332.4,316.2,308.1,300]\n",
    "y_train_1=np.array(res_1)\n",
    "y_train_1"
   ]
  },
  {
   "cell_type": "code",
   "execution_count": 35,
   "id": "e0be2a96",
   "metadata": {},
   "outputs": [
    {
     "data": {
      "text/plain": [
       "array([383. , 372.6, 362.3, 341.6, 331.3, 310.6, 300.3, 290. ])"
      ]
     },
     "execution_count": 35,
     "metadata": {},
     "output_type": "execute_result"
    }
   ],
   "source": [
    "res_2=[383,372.6,362.3,341.6,331.3,310.6,300.3,290]\n",
    "y_train_2=np.array(res_2)\n",
    "y_train_2"
   ]
  },
  {
   "cell_type": "code",
   "execution_count": 12,
   "id": "bfaf6b2b",
   "metadata": {},
   "outputs": [
    {
     "data": {
      "text/plain": [
       "array([400. , 389.9, 379.9, 359.9, 349.9, 329.9, 319.9, 310. ])"
      ]
     },
     "execution_count": 12,
     "metadata": {},
     "output_type": "execute_result"
    }
   ],
   "source": [
    "res_3=[400,389.9,379.9,359.9,349.9,329.9,319.9,310]\n",
    "y_train_3=np.array(res_3)\n",
    "y_train_3"
   ]
  },
  {
   "cell_type": "code",
   "execution_count": 13,
   "id": "947f953c",
   "metadata": {},
   "outputs": [],
   "source": [
    "res_4=[395,383.8,372.7,350.5,339.4,317.2,306.09,295]\n",
    "y_train_4=np.array(res_4)\n",
    "y_train_4"
   ]
  },
  {
   "cell_type": "code",
   "execution_count": null,
   "id": "95679d01",
   "metadata": {},
   "outputs": [],
   "source": [
    "res_5=[380,371.6,363.3,346.6,338.3,321.65,313.3,305]\n",
    "y_train_5=np.array(res_5)\n",
    "y_train_5"
   ]
  },
  {
   "cell_type": "code",
   "execution_count": 14,
   "id": "874f9228",
   "metadata": {},
   "outputs": [],
   "source": [
    "class PINN(Model):\n",
    "    def __init__(self):\n",
    "        super(PINN, self).__init__()\n",
    "        self.dense1 = layers.Dense(64, activation='relu')\n",
    "        self.dense2 = layers.Dense(32, activation='relu')\n",
    "        self.dense3 = layers.Dense(1)\n",
    "\n",
    "    def call(self, inputs):\n",
    "        x = self.dense1(inputs)\n",
    "        x = self.dense2(x)\n",
    "        return self.dense3(x)\n"
   ]
  },
  {
   "cell_type": "code",
   "execution_count": 15,
   "id": "4554e30e",
   "metadata": {},
   "outputs": [],
   "source": [
    "def custom_loss(y_true, y_pred, X_train):\n",
    "    data_loss = tf.reduce_mean(tf.square(y_true - y_pred))\n",
    "    \n",
    "    # Physics-informed regularization term based on the heat equation\n",
    "    alpha = 1.0  # Thermal diffusivity\n",
    "    with tf.GradientTape() as tape:\n",
    "        tape.watch(X_train)\n",
    "        y_pred_with_grad = model(X_train)\n",
    "        gradients = tape.gradient(y_pred_with_grad, X_train)\n",
    "        laplacian = tf.reduce_sum(tf.square(gradients), axis=1)\n",
    "    physics_loss = tf.reduce_mean(alpha * laplacian)\n",
    "    \n",
    "    total_loss = data_loss + physics_loss\n",
    "    return total_loss"
   ]
  },
  {
   "cell_type": "code",
   "execution_count": 16,
   "id": "aacf0a58",
   "metadata": {},
   "outputs": [],
   "source": [
    "model = PINN()\n",
    "\n",
    "# Compile the model\n",
    "model.compile(optimizer='adam', loss=lambda y_true, y_pred: custom_loss(y_true, y_pred, tf.convert_to_tensor(X_train_1, dtype=tf.float32)))\n",
    "model.compile(optimizer='adam', loss=lambda y_true, y_pred: custom_loss(y_true, y_pred, tf.convert_to_tensor(X_train_2, dtype=tf.float32)))\n",
    "model.compile(optimizer='adam', loss=lambda y_true, y_pred: custom_loss(y_true, y_pred, tf.convert_to_tensor(X_train_3, dtype=tf.float32)))\n",
    "# model.compile(optimizer='adam', loss=lambda y_true, y_pred: custom_loss(y_true, y_pred, tf.convert_to_tensor(X_train_4, dtype=tf.float32)))\n",
    "\n"
   ]
  },
  {
   "cell_type": "code",
   "execution_count": null,
   "id": "3910a115",
   "metadata": {},
   "outputs": [],
   "source": []
  },
  {
   "cell_type": "code",
   "execution_count": 17,
   "id": "91fcedd4",
   "metadata": {},
   "outputs": [
    {
     "data": {
      "text/plain": [
       "<keras.callbacks.History at 0x23b9c69e740>"
      ]
     },
     "execution_count": 17,
     "metadata": {},
     "output_type": "execute_result"
    }
   ],
   "source": [
    "model.fit(tf.convert_to_tensor(X_train_1, dtype=tf.float32), tf.convert_to_tensor(y_train_1, dtype=tf.float32), epochs=1000, verbose=0)\n"
   ]
  },
  {
   "cell_type": "code",
   "execution_count": 18,
   "id": "11bd958a",
   "metadata": {},
   "outputs": [
    {
     "data": {
      "text/plain": [
       "<keras.callbacks.History at 0x23b9c9bb970>"
      ]
     },
     "execution_count": 18,
     "metadata": {},
     "output_type": "execute_result"
    }
   ],
   "source": [
    "model.fit(tf.convert_to_tensor(X_train_2, dtype=tf.float32), tf.convert_to_tensor(y_train_2, dtype=tf.float32), epochs=1000, verbose=0)\n",
    "model.fit(tf.convert_to_tensor(X_train_3, dtype=tf.float32), tf.convert_to_tensor(y_train_3, dtype=tf.float32), epochs=1000, verbose=0)\n",
    "# model.fit(tf.convert_to_tensor(X_train_4, dtype=tf.float32), tf.convert_to_tensor(y_train_4, dtype=tf.float32), epochs=1000, verbose=0)\n"
   ]
  },
  {
   "cell_type": "code",
   "execution_count": 19,
   "id": "3801af23",
   "metadata": {},
   "outputs": [],
   "source": [
    "input_temperature_test = 395\n",
    "ambient_temperature_test = 295\n",
    "temp_diff_test = input_temperature_test - ambient_temperature_test\n",
    "temp_diff_test=[temp_diff_test,temp_diff_test,temp_diff_test,temp_diff_test,temp_diff_test,temp_diff_test,temp_diff_test,temp_diff_test]\n",
    "input_temperature_test =[input_temperature_test,input_temperature_test,input_temperature_test,input_temperature_test,input_temperature_test,input_temperature_test,input_temperature_test,input_temperature_test]"
   ]
  },
  {
   "cell_type": "code",
   "execution_count": 20,
   "id": "bb14984f",
   "metadata": {},
   "outputs": [
    {
     "data": {
      "text/plain": [
       "array([[-17.68,   0.  , -12.61, 395.  , 100.  ],\n",
       "       [-12.62,   0.  , -12.61, 395.  , 100.  ],\n",
       "       [ -7.57,   0.  , -12.61, 395.  , 100.  ],\n",
       "       [ -2.52,   0.  , -12.61, 395.  , 100.  ],\n",
       "       [  2.53,   0.  , -12.61, 395.  , 100.  ],\n",
       "       [  7.57,   0.  , -12.61, 395.  , 100.  ],\n",
       "       [ 12.62,   0.  , -12.61, 395.  , 100.  ],\n",
       "       [ 17.67,   0.  , -12.61, 395.  , 100.  ]])"
      ]
     },
     "execution_count": 20,
     "metadata": {},
     "output_type": "execute_result"
    }
   ],
   "source": [
    "X_test = np.column_stack((x_coords_1, y_coords_1, z_coords_1, input_temperature_test, temp_diff_test))\n",
    "X_test"
   ]
  },
  {
   "cell_type": "code",
   "execution_count": 21,
   "id": "bff5dabd",
   "metadata": {},
   "outputs": [],
   "source": [
    "y_pred = model.predict(tf.convert_to_tensor(X_test, dtype=tf.float32))"
   ]
  },
  {
   "cell_type": "code",
   "execution_count": 22,
   "id": "7ce1a194",
   "metadata": {},
   "outputs": [
    {
     "data": {
      "text/plain": [
       "array([[404.49445],\n",
       "       [390.9951 ],\n",
       "       [377.52243],\n",
       "       [364.0497 ],\n",
       "       [350.57703],\n",
       "       [337.131  ],\n",
       "       [323.65833],\n",
       "       [310.18564]], dtype=float32)"
      ]
     },
     "execution_count": 22,
     "metadata": {},
     "output_type": "execute_result"
    }
   ],
   "source": [
    "y_pred"
   ]
  },
  {
   "cell_type": "code",
   "execution_count": 24,
   "id": "ac5b038b",
   "metadata": {},
   "outputs": [],
   "source": []
  },
  {
   "cell_type": "code",
   "execution_count": null,
   "id": "dcec2cd2",
   "metadata": {},
   "outputs": [],
   "source": []
  },
  {
   "cell_type": "code",
   "execution_count": null,
   "id": "62f2cd33",
   "metadata": {},
   "outputs": [],
   "source": []
  },
  {
   "cell_type": "code",
   "execution_count": null,
   "id": "951a0d58",
   "metadata": {},
   "outputs": [],
   "source": []
  },
  {
   "cell_type": "code",
   "execution_count": null,
   "id": "2bb634fa",
   "metadata": {},
   "outputs": [],
   "source": []
  },
  {
   "cell_type": "code",
   "execution_count": null,
   "id": "a22d5b3b",
   "metadata": {},
   "outputs": [],
   "source": []
  },
  {
   "cell_type": "code",
   "execution_count": null,
   "id": "08eb15ce",
   "metadata": {},
   "outputs": [],
   "source": []
  },
  {
   "cell_type": "code",
   "execution_count": null,
   "id": "bc74c366",
   "metadata": {},
   "outputs": [],
   "source": []
  },
  {
   "cell_type": "code",
   "execution_count": null,
   "id": "808b2dd2",
   "metadata": {},
   "outputs": [],
   "source": []
  },
  {
   "cell_type": "code",
   "execution_count": null,
   "id": "b91e36bf",
   "metadata": {},
   "outputs": [],
   "source": []
  }
 ],
 "metadata": {
  "kernelspec": {
   "display_name": "Python 3 (ipykernel)",
   "language": "python",
   "name": "python3"
  },
  "language_info": {
   "codemirror_mode": {
    "name": "ipython",
    "version": 3
   },
   "file_extension": ".py",
   "mimetype": "text/x-python",
   "name": "python",
   "nbconvert_exporter": "python",
   "pygments_lexer": "ipython3",
   "version": "3.10.4"
  }
 },
 "nbformat": 4,
 "nbformat_minor": 5
}
